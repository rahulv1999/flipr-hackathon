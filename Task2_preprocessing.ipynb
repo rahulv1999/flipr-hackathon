{
 "cells": [
  {
   "cell_type": "code",
   "execution_count": null,
   "metadata": {},
   "outputs": [],
   "source": [
    "import pandas as pd\n",
    "import numpy as np"
   ]
  },
  {
   "cell_type": "code",
   "execution_count": null,
   "metadata": {},
   "outputs": [],
   "source": [
    "#importing dataset\n",
    "ts_data= pd.read_csv(\"Test_dataset.csv\",encoding = 'latin-1').drop(0,axis=0)\n",
    "#print(ts_data.isnull().sum())\n",
    "city = ts_data['City']\n",
    "for clm in ts_data.drop('City',axis=1).columns:\n",
    "    mean = float(np.array(ts_data[clm].dropna(), dtype = np.float64).mean())\n",
    "    k=[]\n",
    "    for row in ts_data[clm]:\n",
    "        if float(row)>0:\n",
    "            k.append(abs(float(row)))\n",
    "        else:\n",
    "            k.append(mean)\n",
    "    \n",
    "            \n",
    "    #print(clm,ts_data[clm].mode())\n",
    "    ts_data[clm] = np.array(k, dtype = np.float64 )\n",
    "    #print(ts_data[clm].isna().sum())\n",
    "    #print(clm,ts_data[clm].mode())\n",
    "ts_data.isna().sum()"
   ]
  },
  {
   "cell_type": "code",
   "execution_count": null,
   "metadata": {},
   "outputs": [],
   "source": [
    "x= ts_data.drop(['City','Unnamed: 6'],axis=1) # values from April to August\n",
    "y= ts_data['Unnamed: 6']\n",
    "x_t1= ts_data.drop(['City','Time Series Data'],axis=1) #values from May to sep\n",
    "#Linear Regression\n",
    "from sklearn.linear_model import LinearRegression\n",
    "regressor = LinearRegression()\n",
    "regressor.fit(x,y)\n",
    "#Calculating Foreign_Visitors Of Oct \n",
    "y_pred2 =regressor.predict(x_t1)"
   ]
  },
  {
   "cell_type": "code",
   "execution_count": null,
   "metadata": {},
   "outputs": [],
   "source": [
    "result = pd.DataFrame()\n",
    "result['City'] = city\n",
    "result['Oct'] = y_pred2\n",
    "result.to_csv('result.csv')"
   ]
  },
  {
   "cell_type": "code",
   "execution_count": null,
   "metadata": {},
   "outputs": [],
   "source": []
  }
 ],
 "metadata": {
  "kernelspec": {
   "display_name": "Python 3",
   "language": "python",
   "name": "python3"
  },
  "language_info": {
   "codemirror_mode": {
    "name": "ipython",
    "version": 3
   },
   "file_extension": ".py",
   "mimetype": "text/x-python",
   "name": "python",
   "nbconvert_exporter": "python",
   "pygments_lexer": "ipython3",
   "version": "3.7.6"
  }
 },
 "nbformat": 4,
 "nbformat_minor": 4
}
